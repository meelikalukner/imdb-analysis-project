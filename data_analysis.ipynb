{
 "cells": [
  {
   "cell_type": "markdown",
   "metadata": {},
   "source": [
    "Fetching content from the database"
   ]
  },
  {
   "cell_type": "code",
   "execution_count": 1,
   "metadata": {},
   "outputs": [
    {
     "name": "stdout",
     "output_type": "stream",
     "text": [
      "   id                        title  year duration    rating  IMDB rating\n",
      "0   1  1. The Shawshank Redemption  1994   2h 22m         R          9.3\n",
      "1   2             2. The Godfather  1972   2h 55m         R          9.2\n",
      "2   3           3. The Dark Knight  2008   2h 32m     PG-13          9.0\n",
      "3   4     4. The Godfather Part II  1974   3h 22m         R          9.0\n",
      "4   5              5. 12 Angry Men  1957   1h 36m  Approved          9.0\n"
     ]
    }
   ],
   "source": [
    "import sqlite3\n",
    "import pandas as pd\n",
    "\n",
    "# Connect to the database\n",
    "conn = sqlite3.connect('imdb_data.db')\n",
    "cursor = conn.cursor()\n",
    "\n",
    "# Converting data to a dataframe\n",
    "movies = pd.read_sql_query(\"SELECT * FROM movies\",conn)\n",
    "\n",
    "print(movies.head())\n",
    "conn.close()"
   ]
  },
  {
   "cell_type": "code",
   "execution_count": 2,
   "metadata": {},
   "outputs": [
    {
     "name": "stdout",
     "output_type": "stream",
     "text": [
      "id               int64\n",
      "title           object\n",
      "year             int64\n",
      "duration        object\n",
      "rating          object\n",
      "IMDB rating    float64\n",
      "dtype: object\n"
     ]
    }
   ],
   "source": [
    "print(movies.dtypes)"
   ]
  },
  {
   "cell_type": "markdown",
   "metadata": {},
   "source": [
    "I already inspected the full SQL table and noticed the ratings of the movies aren't quite right. So I would leave these out for now.\n",
    "First of all, I would like to extract the ranking number from the movie names and create a new column \"ranking\". I think I'd also like to convert the duration to minutes, so I will create another column \"duration_minutes\"."
   ]
  },
  {
   "cell_type": "code",
   "execution_count": 6,
   "metadata": {},
   "outputs": [
    {
     "name": "stdout",
     "output_type": "stream",
     "text": [
      "   id                     title  year duration    rating  IMDB rating  ranking\n",
      "0   1  The Shawshank Redemption  1994   2h 22m         R          9.3        1\n",
      "1   2             The Godfather  1972   2h 55m         R          9.2        2\n",
      "2   3           The Dark Knight  2008   2h 32m     PG-13          9.0        3\n",
      "3   4     The Godfather Part II  1974   3h 22m         R          9.0        4\n",
      "4   5              12 Angry Men  1957   1h 36m  Approved          9.0        5\n"
     ]
    }
   ],
   "source": [
    "movies['ranking'] = movies['title'].str.split('.').str[0].astype(int)\n",
    "movies['title'] = movies['title'].str.split('.').str[1].str.strip()\n",
    "print(movies.head())"
   ]
  },
  {
   "cell_type": "code",
   "execution_count": 7,
   "metadata": {},
   "outputs": [
    {
     "name": "stdout",
     "output_type": "stream",
     "text": [
      "   id                     title  year duration    rating  IMDB rating  \\\n",
      "0   1  The Shawshank Redemption  1994   2h 22m         R          9.3   \n",
      "1   2             The Godfather  1972   2h 55m         R          9.2   \n",
      "2   3           The Dark Knight  2008   2h 32m     PG-13          9.0   \n",
      "3   4     The Godfather Part II  1974   3h 22m         R          9.0   \n",
      "4   5              12 Angry Men  1957   1h 36m  Approved          9.0   \n",
      "\n",
      "   ranking  duration_minutes  \n",
      "0        1               142  \n",
      "1        2               175  \n",
      "2        3               152  \n",
      "3        4               202  \n",
      "4        5                96  \n"
     ]
    }
   ],
   "source": [
    "def convert_to_minutes(duration):\n",
    "    hours = int(duration.split('h')[0]) if 'h' in duration else 0\n",
    "    minutes = int(duration.split('h')[-1].split('m')[0].strip()) if 'm' in duration else 0\n",
    "    return (hours * 60) + minutes\n",
    "\n",
    "movies['duration_minutes'] = movies['duration'].apply(convert_to_minutes)\n",
    "print(movies.head())\n"
   ]
  },
  {
   "cell_type": "code",
   "execution_count": 20,
   "metadata": {},
   "outputs": [
    {
     "name": "stdout",
     "output_type": "stream",
     "text": [
      "id                    int64\n",
      "title                object\n",
      "year                  int64\n",
      "duration             object\n",
      "rating               object\n",
      "IMDB rating         float64\n",
      "ranking               int32\n",
      "duration_minutes      int64\n",
      "dtype: object\n"
     ]
    }
   ],
   "source": [
    "print(movies.dtypes)"
   ]
  },
  {
   "cell_type": "markdown",
   "metadata": {},
   "source": [
    "What's the longest movie in the list? What's the shortest? What's the average duration?\n",
    "Creating a new sorted dataframe, where I've sorted the movies based on duration (descending)."
   ]
  },
  {
   "cell_type": "code",
   "execution_count": 29,
   "metadata": {},
   "outputs": [
    {
     "name": "stdout",
     "output_type": "stream",
     "text": [
      "The longest movie in the list is \"Gone with the Wind\" with a duration of 3 hours and 58 minutes.\n",
      "The shortest movie in the list is \"Sherlock Jr\" with a duration of 45 minutes.\n",
      "The average duration for movies in Top250 list is 2 hours and 9 minutes.\n"
     ]
    }
   ],
   "source": [
    "import numpy as np\n",
    "\n",
    "# The longest movie\n",
    "idx_longest = movies['duration_minutes'].idxmax()\n",
    "longest_hours = int(movies['duration_minutes'].max()/60)\n",
    "longest_remaining_minutes = movies['duration_minutes'].max()%60\n",
    "title_longest = movies.loc[idx_longest,'title']\n",
    "\n",
    "print(f\"The longest movie in the list is \\\"{title_longest}\\\" with a duration of {longest_hours} hours and {longest_remaining_minutes} minutes.\")\n",
    "\n",
    "#The shortest movie\n",
    "idx_shortest = movies['duration_minutes'].idxmin()\n",
    "shortest_duration = movies['duration_minutes'].min()\n",
    "title_shortest = movies.loc[idx_shortest,'title']\n",
    "\n",
    "print(f\"The shortest movie in the list is \\\"{title_shortest}\\\" with a duration of {shortest_duration} minutes.\")\n",
    "\n",
    "#The average duration\n",
    "avg_duration = int(movies['duration_minutes'].mean())\n",
    "avg_duration_hours = int(avg_duration/60)\n",
    "avg_duration_minutes = int(avg_duration%60)\n",
    "print(f\"The average duration for movies in Top250 list is {avg_duration_hours} hours and {avg_duration_minutes} minutes.\")\n",
    "\n",
    "#Sorted dataframe based on duration + writing the dataframe to a csv\n",
    "movies_sorted_by_duration = movies.sort_values(by='duration_minutes',ascending=False)\n",
    "#print(movies_sorted_by_duration.head())\n",
    "movies_sorted_by_duration.to_csv('movies_sorted_by_duration.csv',index=False)"
   ]
  }
 ],
 "metadata": {
  "kernelspec": {
   "display_name": "jupyterenv",
   "language": "python",
   "name": "jupyterenv"
  },
  "language_info": {
   "codemirror_mode": {
    "name": "ipython",
    "version": 3
   },
   "file_extension": ".py",
   "mimetype": "text/x-python",
   "name": "python",
   "nbconvert_exporter": "python",
   "pygments_lexer": "ipython3",
   "version": "3.11.1"
  },
  "orig_nbformat": 4
 },
 "nbformat": 4,
 "nbformat_minor": 2
}
